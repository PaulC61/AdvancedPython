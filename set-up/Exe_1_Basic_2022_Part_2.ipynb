{
 "cells": [
  {
   "cell_type": "markdown",
   "metadata": {
    "id": "kiedYi78jBIe"
   },
   "source": [
    "# Exercise 1"
   ]
  },
  {
   "cell_type": "markdown",
   "metadata": {},
   "source": [
    "An overview of basic concepts and commands in Python + Extensions on Functions"
   ]
  },
  {
   "cell_type": "markdown",
   "metadata": {},
   "source": [
    "# Part 2"
   ]
  },
  {
   "cell_type": "markdown",
   "metadata": {},
   "source": [
    "# Set"
   ]
  },
  {
   "cell_type": "markdown",
   "metadata": {},
   "source": [
    "A set is like a list, except that the same item cannot be stored twice. To create a group from a list of items use curly braces:"
   ]
  },
  {
   "cell_type": "code",
   "execution_count": 1,
   "metadata": {},
   "outputs": [
    {
     "data": {
      "text/plain": "{1, 2, 3}"
     },
     "execution_count": 1,
     "metadata": {},
     "output_type": "execute_result"
    }
   ],
   "source": [
    "x = {1, 2, 3}\n",
    "x\n",
    "#set([1, 2, 3])"
   ]
  },
  {
   "cell_type": "markdown",
   "metadata": {},
   "source": [
    "We can add items to the group, and if we try to add a item that already exists in the group, nothing will happen:"
   ]
  },
  {
   "cell_type": "code",
   "execution_count": 2,
   "metadata": {},
   "outputs": [
    {
     "data": {
      "text/plain": "{1, 2, 3, 4}"
     },
     "execution_count": 2,
     "metadata": {},
     "output_type": "execute_result"
    }
   ],
   "source": [
    "x.add(2)\n",
    "x.add(3)\n",
    "x.add(4)\n",
    "x.add(4)\n",
    "#set([1, 2, 3, 4])\n",
    "x"
   ]
  },
  {
   "cell_type": "markdown",
   "metadata": {},
   "source": [
    "You can create an impressive group or an existing tuple, and thus get the same list without duplicates:"
   ]
  },
  {
   "cell_type": "code",
   "execution_count": 3,
   "metadata": {},
   "outputs": [
    {
     "data": {
      "text/plain": "{1, 2, 3, 4, 6, 9}"
     },
     "execution_count": 3,
     "metadata": {},
     "output_type": "execute_result"
    }
   ],
   "source": [
    "w = [1, 1, 1, 2, 3, 9, 2, 4, 3, 6]\n",
    "set(w)"
   ]
  },
  {
   "cell_type": "code",
   "execution_count": 4,
   "metadata": {},
   "outputs": [
    {
     "name": "stdout",
     "output_type": "stream",
     "text": [
      "Union: {1, 2, 3, 4, 6, 9}\n"
     ]
    }
   ],
   "source": [
    "#Operators:\n",
    "print(\"Union: \"+str(x | set(w)) ) # Or x.union(set(w))"
   ]
  },
  {
   "cell_type": "code",
   "execution_count": 14,
   "metadata": {},
   "outputs": [
    {
     "name": "stdout",
     "output_type": "stream",
     "text": [
      "Intersection: {1, 2, 3, 4}\n"
     ]
    }
   ],
   "source": [
    "print(\"Intersection: \"+str(x & set(w))) # Or x.intersection(set(w))"
   ]
  },
  {
   "cell_type": "markdown",
   "metadata": {},
   "source": [
    "# Function"
   ]
  },
  {
   "cell_type": "markdown",
   "metadata": {},
   "source": [
    "A function is a block of code which only runs when it is called.\n",
    "\n",
    "You can pass data, known as parameters, into a function.\n",
    "\n",
    "A function can return data as a result."
   ]
  },
  {
   "cell_type": "code",
   "execution_count": 5,
   "metadata": {},
   "outputs": [],
   "source": [
    "def func():\n",
    "     print (\"I am a function\")"
   ]
  },
  {
   "cell_type": "code",
   "execution_count": 6,
   "metadata": {},
   "outputs": [
    {
     "name": "stdout",
     "output_type": "stream",
     "text": [
      "I am a function\n"
     ]
    }
   ],
   "source": [
    "func()"
   ]
  },
  {
   "cell_type": "code",
   "execution_count": 8,
   "metadata": {},
   "outputs": [
    {
     "data": {
      "text/plain": "0.4065040650406504"
     },
     "execution_count": 8,
     "metadata": {},
     "output_type": "execute_result"
    }
   ],
   "source": [
    "result = mol_gas(1, 1, 30)\n",
    "result"
   ]
  },
  {
   "cell_type": "code",
   "execution_count": null,
   "metadata": {},
   "outputs": [],
   "source": []
  },
  {
   "cell_type": "markdown",
   "metadata": {},
   "source": [
    "# Exercise 5 :"
   ]
  },
  {
   "cell_type": "markdown",
   "metadata": {},
   "source": [
    "1. Write a function that calculates the number of mass given moles and molar mass (m = n* Mw)"
   ]
  },
  {
   "cell_type": "code",
   "execution_count": 10,
   "metadata": {},
   "outputs": [
    {
     "data": {
      "text/plain": "32"
     },
     "execution_count": 10,
     "metadata": {},
     "output_type": "execute_result"
    }
   ],
   "source": [
    "def mass1(n, mw):\n",
    "    mass = n*mw\n",
    "    return mass\n",
    "\n",
    "\n",
    "mass1(2, 16)"
   ]
  },
  {
   "cell_type": "code",
   "execution_count": 3,
   "metadata": {},
   "outputs": [
    {
     "data": {
      "text/plain": [
       "32"
      ]
     },
     "execution_count": 3,
     "metadata": {},
     "output_type": "execute_result"
    }
   ],
   "source": [
    "mass1(2, 16)"
   ]
  },
  {
   "cell_type": "markdown",
   "metadata": {},
   "source": [
    "2. Write a function that calculates the mass given the volume and density (d * v = m)"
   ]
  },
  {
   "cell_type": "code",
   "execution_count": 11,
   "metadata": {},
   "outputs": [
    {
     "data": {
      "text/plain": "32"
     },
     "execution_count": 11,
     "metadata": {},
     "output_type": "execute_result"
    }
   ],
   "source": [
    "def mass2(d,v):\n",
    "    m = d * v\n",
    "    return m\n",
    "\n",
    "\n",
    "mass1(2, 16)"
   ]
  },
  {
   "cell_type": "code",
   "execution_count": 12,
   "metadata": {},
   "outputs": [
    {
     "data": {
      "text/plain": "32"
     },
     "execution_count": 12,
     "metadata": {},
     "output_type": "execute_result"
    }
   ],
   "source": [
    "mass1(2, 16)"
   ]
  },
  {
   "cell_type": "markdown",
   "metadata": {},
   "source": [
    "3. Use the previous two functions to write a function that calculates the moles if the molar mass, volume and density are given"
   ]
  },
  {
   "cell_type": "code",
   "execution_count": 13,
   "metadata": {},
   "outputs": [
    {
     "data": {
      "text/plain": "0.045"
     },
     "execution_count": 13,
     "metadata": {},
     "output_type": "execute_result"
    }
   ],
   "source": [
    "def calc_d_mol(Mw, d, V):\n",
    "    mass = mass2(d,V)\n",
    "    n = Mw/mass\n",
    "    return n\n",
    "\n",
    "calc_d_mol(18, 2,200)"
   ]
  },
  {
   "cell_type": "code",
   "execution_count": 14,
   "metadata": {},
   "outputs": [
    {
     "data": {
      "text/plain": "0.045"
     },
     "execution_count": 14,
     "metadata": {},
     "output_type": "execute_result"
    }
   ],
   "source": [
    "calc_d_mol(18, 2,200)"
   ]
  },
  {
   "cell_type": "markdown",
   "metadata": {},
   "source": [
    "# Exercise 6 :"
   ]
  },
  {
   "cell_type": "markdown",
   "metadata": {},
   "source": [
    "Write a code that gets a state (gas (G), solid (S) or liquid (L)).\n",
    "\n",
    "Depending on the state, the code will request additional data to calculate the number of moles:\n",
    "\n",
    "If gas - provide P, V, T R = 0.082\n",
    "If liquid - d, V, Mw\n",
    "If solid - provide m, Mw\n",
    "\n",
    "Use the functions you wrote already and mol_gas() that alredy exist."
   ]
  },
  {
   "cell_type": "code",
   "execution_count": null,
   "outputs": [],
   "source": [
    "def mol_gas(p, v, t):\n",
    "    \"\"\" This function calculates the moles of a gas\n",
    "    under a pressure (p, [atm]), of a volume (v [L])\n",
    "    in a certian tempurtue (t [K])\n",
    "    \"\"\"\n",
    "    r = 0.082 # L atm / (mol K)\n",
    "    #PV = nRT\n",
    "    n = (p * v) / (r * t )\n",
    "    return n"
   ],
   "metadata": {
    "collapsed": false
   }
  },
  {
   "cell_type": "code",
   "execution_count": 27,
   "outputs": [],
   "source": [
    "def mol_solid(m, mw):\n",
    "    n = mw/m\n",
    "    return n\n",
    "\n",
    "\n",
    "def mol_liquid(mw, d, v):\n",
    "    m = mass2(d,v)\n",
    "    n = mol_solid(m,mw)\n",
    "    return n\n",
    "\n",
    "\n",
    "def get_moles(): # Use input function\n",
    "    state = input('state of matter? [s / l / g]')\n",
    "    lower_state = state.lower()\n",
    "\n",
    "    if state == 's':\n",
    "        mass = float(input('Mass [g]'))\n",
    "        mw = float(input('Molecular Weight [g/mol]'))\n",
    "        n = mol_solid(mass, mw)\n",
    "    elif state == 'l':\n",
    "        d = float(input('Density [g/mL]'))\n",
    "        v = float(input('Volume [mL]'))\n",
    "        mw = float(input('Molecular Weight [g/mol]'))\n",
    "        n = mol_liquid(mw, d, v)\n",
    "    elif state == 'g':\n",
    "        p = float(input('Pressure [atm]'))\n",
    "        v = float(input('Volume [L]'))\n",
    "        t = float(input('Temperature [K]'))\n",
    "        n = mol_gas(p,v,t)\n",
    "    else:\n",
    "        n = 'Invalid'\n",
    "\n",
    "    print(f\"Number of Moles: {n}\")\n",
    "\n"
   ],
   "metadata": {
    "collapsed": false
   }
  },
  {
   "cell_type": "markdown",
   "source": [],
   "metadata": {
    "collapsed": false
   }
  },
  {
   "cell_type": "code",
   "execution_count": 29,
   "metadata": {},
   "outputs": [
    {
     "name": "stdout",
     "output_type": "stream",
     "text": [
      "Number of Moles: 0.12608695652173912\n"
     ]
    }
   ],
   "source": [
    "get_moles()"
   ]
  },
  {
   "cell_type": "markdown",
   "metadata": {},
   "source": [
    "# Exercise 7 :\n",
    "Write a function that takes a given string's letters to a tuple. Hint: use isspace() function\n",
    "\n"
   ]
  },
  {
   "cell_type": "code",
   "execution_count": null,
   "metadata": {},
   "outputs": [],
   "source": []
  },
  {
   "cell_type": "markdown",
   "metadata": {},
   "source": [
    "# Lambda"
   ]
  },
  {
   "cell_type": "markdown",
   "metadata": {},
   "source": [
    "A lambda function is a small anonymous function, it can take any number of arguments, but can only have one expression.\n",
    "\n",
    "Syntax:\n",
    "\n",
    "lambda arguments : expression\n",
    "\n",
    "The expression is executed and the result is returned"
   ]
  },
  {
   "cell_type": "markdown",
   "metadata": {},
   "source": [
    "**Pros:**\n",
    "1. Good for simple logical operations that are easy to understand.    This makes the code more readable too.\n",
    "2. Good when you want a function that you will use just one time.\n",
    "\n",
    "\n",
    "**Cons:**\n",
    "1. They can only perform one expression. It’s not possible to have    multiple independent operations in one lambda function.\n",
    "2. Bad for operations that would span more than one line in a        normal def function (For example nested conditional      operations). If you need a minute or two to understand the code, use a named function instead.\n",
    "3. Bad because you can’t write a doc-string to explain all the inputs, operations, and outputs as you would in a normal def function."
   ]
  },
  {
   "cell_type": "code",
   "execution_count": 30,
   "metadata": {},
   "outputs": [
    {
     "name": "stdout",
     "output_type": "stream",
     "text": [
      "30\n"
     ]
    }
   ],
   "source": [
    "x = lambda a, b : a * b\n",
    "print(x(5, 6))"
   ]
  },
  {
   "cell_type": "code",
   "execution_count": 32,
   "metadata": {},
   "outputs": [],
   "source": [
    "sqr_fun = lambda x: x * x"
   ]
  },
  {
   "cell_type": "code",
   "execution_count": 33,
   "metadata": {},
   "outputs": [
    {
     "name": "stdout",
     "output_type": "stream",
     "text": [
      "4\n"
     ]
    }
   ],
   "source": [
    "print(sqr_fun(2))"
   ]
  },
  {
   "cell_type": "markdown",
   "metadata": {},
   "source": [
    "# Map, reduce, filter"
   ]
  },
  {
   "cell_type": "markdown",
   "metadata": {},
   "source": [
    "When we have a list of objects we will probably go through it with the help of a loop. So that our code does not extend from identical loops that do the same job over and over again, the map, reduce and filter functions were created.\n",
    "These three functions are built-in functions within Python, the whole purpose of which is to take a list (or Tuple), run a function on its members and produce output appropriate.\n",
    "All this is done by calling one function on the list."
   ]
  },
  {
   "cell_type": "markdown",
   "metadata": {},
   "source": [
    "# Map"
   ]
  },
  {
   "cell_type": "markdown",
   "metadata": {},
   "source": [
    "**map()** function returns a map object(which is an iterator) of the results after applying the given function to each item of a given iterable (list, tuple etc.)\n",
    "\n",
    "Syntax :\n",
    "\n",
    "**map(fun, iter)**\n",
    "Parameters :\n",
    "\n",
    "fun : It is a function to which map passes each element of given iterable.\n",
    "\n",
    "iter : It is a iterable which is to be mapped."
   ]
  },
  {
   "cell_type": "markdown",
   "metadata": {},
   "source": [
    "**Without using lambdas**"
   ]
  },
  {
   "cell_type": "markdown",
   "metadata": {},
   "source": [
    "**Map() on range:**"
   ]
  },
  {
   "cell_type": "code",
   "execution_count": 37,
   "metadata": {},
   "outputs": [],
   "source": [
    "def double(x):\n",
    "    return x * 2\n"
   ]
  },
  {
   "cell_type": "code",
   "execution_count": 38,
   "metadata": {},
   "outputs": [
    {
     "data": {
      "text/plain": "[2, 4, 6, 8, 10, 12, 14, 16, 18, 20]"
     },
     "execution_count": 38,
     "metadata": {},
     "output_type": "execute_result"
    }
   ],
   "source": [
    "x=list(map(double, range (1,11)))\n",
    "x"
   ]
  },
  {
   "cell_type": "markdown",
   "metadata": {},
   "source": [
    "Another example:"
   ]
  },
  {
   "cell_type": "code",
   "execution_count": 39,
   "metadata": {},
   "outputs": [
    {
     "name": "stdout",
     "output_type": "stream",
     "text": [
      "[True, False, False, True, False]\n"
     ]
    }
   ],
   "source": [
    "def starts_with_A(s):\n",
    "    return s[0] == \"A\"\n",
    "\n",
    "fruit = [\"Apple\", \"Banana\", \"Pear\", \"Apricot\", \"Orange\"]\n",
    "map_object = map(starts_with_A, fruit)\n",
    "\n",
    "print(list(map_object))"
   ]
  },
  {
   "cell_type": "markdown",
   "metadata": {},
   "source": [
    "A prettier way to do this exact same thing is by using lambdas:"
   ]
  },
  {
   "cell_type": "code",
   "execution_count": 40,
   "metadata": {},
   "outputs": [
    {
     "name": "stdout",
     "output_type": "stream",
     "text": [
      "[True, False, False, True, False]\n"
     ]
    }
   ],
   "source": [
    "fruit_lst = [\"Apple\", \"Banana\", \"Pear\", \"Apricot\", \"Orange\"]\n",
    "map_object = map(lambda fruit: fruit[0] == \"A\", fruit_lst)\n",
    "\n",
    "print(list(map_object))"
   ]
  },
  {
   "cell_type": "markdown",
   "metadata": {},
   "source": [
    "# Exercise 8 :"
   ]
  },
  {
   "cell_type": "markdown",
   "metadata": {},
   "source": [
    "**Using lambda() function with map().**\n",
    "\n",
    "Write a function that gets a list of numbers, and return list after double each number and add 1:"
   ]
  },
  {
   "cell_type": "code",
   "execution_count": 42,
   "metadata": {},
   "outputs": [
    {
     "data": {
      "text/plain": "[5, 13, 7, 17]"
     },
     "execution_count": 42,
     "metadata": {},
     "output_type": "execute_result"
    }
   ],
   "source": [
    "num_lst = [2,6,3,8]\n",
    "\n",
    "doubled_plus = map(lambda num: (num*2)+1, num_lst)\n",
    "list(doubled_plus)"
   ]
  },
  {
   "cell_type": "code",
   "execution_count": null,
   "outputs": [],
   "source": [],
   "metadata": {
    "collapsed": false
   }
  },
  {
   "cell_type": "markdown",
   "metadata": {},
   "source": [
    "# Reduce"
   ]
  },
  {
   "cell_type": "markdown",
   "metadata": {},
   "source": [
    "The **reduce(fun,seq)** function is used to apply a particular function passed in its argument to all of the list elements mentioned in the sequence passed along.This function is defined in “functools” module.\n",
    "\n",
    "At first step, first two elements of sequence are picked and the result is obtained.\n",
    "\n",
    "Next step is to apply the same function to the previously attained result and the number just succeeding the second element and the result is again stored.\n",
    "\n",
    "This process continues till no more elements are left in the container.\n",
    "The final returned result is returned and printed on console."
   ]
  },
  {
   "cell_type": "code",
   "execution_count": 43,
   "metadata": {},
   "outputs": [
    {
     "name": "stdout",
     "output_type": "stream",
     "text": [
      "The sum of the list elements is : 29\n",
      "The maximum element of the list is : 10\n"
     ]
    }
   ],
   "source": [
    "# importing functools for reduce()\n",
    "from functools import reduce\n",
    "\n",
    "# initializing list\n",
    "lis = [1, 2, 5, 8, 3, 10]\n",
    "\n",
    "# using reduce to compute sum of list\n",
    "print(\"The sum of the list elements is : \", end=\"\")\n",
    "\n",
    "print(reduce(lambda a, b: a+b, lis))\n",
    "\n",
    "# using reduce to compute maximum element from list\n",
    "print(\"The maximum element of the list is : \", end=\"\")\n",
    "print(reduce(lambda a, b: a if a > b else b, lis))"
   ]
  },
  {
   "cell_type": "code",
   "execution_count": null,
   "metadata": {},
   "outputs": [],
   "source": []
  },
  {
   "cell_type": "code",
   "execution_count": 44,
   "metadata": {},
   "outputs": [],
   "source": [
    "def func(x, y):\n",
    "    return x + y"
   ]
  },
  {
   "cell_type": "code",
   "execution_count": 45,
   "metadata": {},
   "outputs": [
    {
     "data": {
      "text/plain": "55"
     },
     "execution_count": 45,
     "metadata": {},
     "output_type": "execute_result"
    }
   ],
   "source": [
    "reduce(func, range(1, 11))"
   ]
  },
  {
   "cell_type": "markdown",
   "metadata": {},
   "source": [
    "# Filter"
   ]
  },
  {
   "cell_type": "markdown",
   "metadata": {},
   "source": [
    "**filter(function, iterable)**\n",
    "\n",
    "Offers an elegant way to filter out all the elements of an iterable, for which the function function returns True. i.e. an item will be produced by the iterator result of filter(function, iterable) if item is included in the sequence \"iterable\" and if function(item) returns **True**.\n",
    "\n",
    "In other words: The function filter(f,l) needs a function f as its first argument. f has to return a Boolean value, i.e. either True or False. This function will be applied to every element of the list l. Only if f returns True will the element be produced by the iterator, which is the return value of filter(function, sequence)."
   ]
  },
  {
   "cell_type": "code",
   "execution_count": 46,
   "metadata": {},
   "outputs": [],
   "source": [
    "\n",
    "# function that filters vowels\n",
    "def fun(variable):\n",
    "    letters = ['a', 'e', 'i', 'o', 'u']\n",
    "    if (variable in letters):\n",
    "        return True\n",
    "    else:\n",
    "        return False\n"
   ]
  },
  {
   "cell_type": "code",
   "execution_count": 47,
   "metadata": {},
   "outputs": [],
   "source": [
    "# sequence\n",
    "sequence = ['g', 'e', 'e', 'j', 'k', 's', 'p', 'r']"
   ]
  },
  {
   "cell_type": "code",
   "execution_count": 48,
   "metadata": {},
   "outputs": [
    {
     "name": "stdout",
     "output_type": "stream",
     "text": [
      "The filtered letters are:\n",
      "e\n",
      "e\n"
     ]
    }
   ],
   "source": [
    "\n",
    "# using filter function\n",
    "filtered = filter(fun, sequence)\n",
    "\n",
    "print('The filtered letters are:')\n",
    "for s in filtered:\n",
    "    print(s)"
   ]
  },
  {
   "cell_type": "markdown",
   "metadata": {},
   "source": [
    "**Filter() with a lambda:**"
   ]
  },
  {
   "cell_type": "code",
   "execution_count": 51,
   "metadata": {},
   "outputs": [
    {
     "name": "stdout",
     "output_type": "stream",
     "text": [
      "['Nitrogen', 'Nickel']\n"
     ]
    }
   ],
   "source": [
    "Chemical_element_lst = [\"Iron\", \"Nitrogen\", \"Silicon\", \"Sulfur\", \"Potassium\", \"Nickel\"]\n",
    "\n",
    "filter_object = filter(lambda chemical: chemical[0] == \"N\", Chemical_element_lst)\n",
    "\n",
    "print(list(filter_object))"
   ]
  },
  {
   "cell_type": "markdown",
   "metadata": {},
   "source": [
    "# Exercise 9 :"
   ]
  },
  {
   "cell_type": "markdown",
   "metadata": {},
   "source": [
    "**Using lambda() function with filter().**\n",
    "\n",
    "\n",
    "Write a program that returns the odd numbers from an input list:"
   ]
  },
  {
   "cell_type": "code",
   "execution_count": 53,
   "metadata": {},
   "outputs": [
    {
     "name": "stdout",
     "output_type": "stream",
     "text": [
      "[1, 3, 5, 7, 9]\n"
     ]
    }
   ],
   "source": [
    "odd_even = [1,2,3,4,5,6,7,8,9,10]\n",
    "\n",
    "odd = filter(lambda number: number%2!=0, odd_even)\n",
    "print(list(odd))"
   ]
  },
  {
   "cell_type": "markdown",
   "metadata": {},
   "source": [
    "# Exercise 10 :"
   ]
  },
  {
   "cell_type": "markdown",
   "metadata": {},
   "source": [
    "Use each of map, filter, and reduce to fix the broken code:"
   ]
  },
  {
   "cell_type": "code",
   "execution_count": 54,
   "metadata": {},
   "outputs": [],
   "source": [
    "# Use map to print the square of each numbers rounded\n",
    "# to three decimal places\n",
    "my_floats = [4.35, 6.09, 3.25, 9.77, 2.16, 8.88, 4.59]"
   ]
  },
  {
   "cell_type": "markdown",
   "metadata": {},
   "source": [
    "Need to fix:"
   ]
  },
  {
   "cell_type": "code",
   "execution_count": 56,
   "metadata": {},
   "outputs": [
    {
     "data": {
      "text/plain": "[18.922, 37.088, 10.562, 95.453, 4.666, 78.854, 21.068]"
     },
     "execution_count": 56,
     "metadata": {},
     "output_type": "execute_result"
    }
   ],
   "source": [
    "map_result = list(map(lambda x: round((x*x),3), my_floats))\n",
    "list(map_result)"
   ]
  },
  {
   "cell_type": "markdown",
   "metadata": {
    "id": "MLfQ2_FDjBKc"
   },
   "source": [
    "Need to fix:"
   ]
  },
  {
   "cell_type": "code",
   "execution_count": 59,
   "metadata": {},
   "outputs": [],
   "source": [
    "# Use filter to print only the elements that are less than\n",
    "# or equal to seven letters\n",
    "elements = [\"Chlorine\", \"Boron\", \"Fluorine\", \"Iodine\", \"Mercury\",\"Nickel\"]"
   ]
  },
  {
   "cell_type": "code",
   "execution_count": 60,
   "metadata": {
    "id": "lkJ5hgIRlKbM"
   },
   "outputs": [],
   "source": [
    "filter_result = list(filter(lambda name: len(name) < 7, elements ))"
   ]
  },
  {
   "cell_type": "code",
   "execution_count": 61,
   "metadata": {
    "id": "zWzWTOf0jBKd"
   },
   "outputs": [
    {
     "name": "stdout",
     "output_type": "stream",
     "text": [
      "['Boron', 'Iodine', 'Nickel']\n"
     ]
    }
   ],
   "source": [
    "print(filter_result)"
   ]
  },
  {
   "cell_type": "code",
   "execution_count": null,
   "metadata": {
    "id": "crPN_j-yjBKd"
   },
   "outputs": [],
   "source": []
  },
  {
   "cell_type": "code",
   "execution_count": 62,
   "metadata": {
    "id": "CDv8US1IjBKe"
   },
   "outputs": [],
   "source": [
    "# Use reduce to print the product of these numbers\n",
    "my_numbers = [4, 6, 9, 23, 5]"
   ]
  },
  {
   "cell_type": "markdown",
   "metadata": {
    "id": "ozo7SroojBKe"
   },
   "source": [
    "Need to fix:"
   ]
  },
  {
   "cell_type": "code",
   "execution_count": 65,
   "metadata": {
    "id": "pGwARTpPjBKe"
   },
   "outputs": [],
   "source": [
    "reduce_result = reduce(lambda num1, num2: num1 * num2, my_numbers)"
   ]
  },
  {
   "cell_type": "code",
   "execution_count": 66,
   "metadata": {
    "id": "WIhkhZ64jBKe"
   },
   "outputs": [
    {
     "name": "stdout",
     "output_type": "stream",
     "text": [
      "24840\n"
     ]
    }
   ],
   "source": [
    "print(reduce_result) #Suppose to print 24840"
   ]
  },
  {
   "cell_type": "code",
   "execution_count": null,
   "metadata": {
    "id": "vQDbpxb0jBKf"
   },
   "outputs": [],
   "source": []
  }
 ],
 "metadata": {
  "colab": {
   "collapsed_sections": [
    "41KpoPuMjBJu"
   ],
   "name": "Exe_1_Basic_2021-Part 2.ipynb",
   "provenance": []
  },
  "kernelspec": {
   "display_name": "Python 3 (ipykernel)",
   "language": "python",
   "name": "python3"
  },
  "language_info": {
   "codemirror_mode": {
    "name": "ipython",
    "version": 3
   },
   "file_extension": ".py",
   "mimetype": "text/x-python",
   "name": "python",
   "nbconvert_exporter": "python",
   "pygments_lexer": "ipython3",
   "version": "3.9.7"
  }
 },
 "nbformat": 4,
 "nbformat_minor": 1
}
