{
 "cells": [
  {
   "cell_type": "markdown",
   "metadata": {},
   "source": [
    "# Homework Assignment - 1 Basic"
   ]
  },
  {
   "cell_type": "markdown",
   "metadata": {},
   "source": [
    "**The main topics we learned in Exe_1:**"
   ]
  },
  {
   "cell_type": "markdown",
   "metadata": {},
   "source": [
    "**Slicing, Dictionary, List ,Tuples, Nesting Lists, Set, Function,Map, reduce, filter, lambda**"
   ]
  },
  {
   "cell_type": "markdown",
   "metadata": {},
   "source": [
    "**1.** *Write a Python program to print out a sequence containing all the Chemical elements from Element_list_1 which are not present in Element_list_2.:*\n",
    "\n",
    "In the first cell, use set() function, In the second use lambda and Filter Functions.\n"
   ]
  },
  {
   "cell_type": "code",
   "execution_count": 1,
   "metadata": {},
   "outputs": [],
   "source": [
    "Element_list_1 = [\"Hydrogen\",\"Helium\",\"Oxygen\",\"Carbon\",\"Neon\",\"Iron\"]\n",
    "Element_list_2 = [\"Neon\",\"Nitrogen\", \"Silicon\",\"Magnesium\",\"Sulfur\",\"Helium\",\"Hydrogen\"]\n",
    "                     \n",
    "#Expected Output :\n",
    "#['Carbon', 'Iron', 'Oxygen']"
   ]
  },
  {
   "cell_type": "code",
   "execution_count": 23,
   "metadata": {},
   "outputs": [],
   "source": [
    "#Use set()\n",
    "def filter_using_set(lst_1,lst_2):\n",
    "    set_1 = set(lst_1)\n",
    "    set_2 = set(lst_2)\n",
    "\n",
    "    diff = set_1.difference(set_2)\n",
    "\n",
    "    print(diff)"
   ]
  },
  {
   "cell_type": "code",
   "execution_count": 24,
   "outputs": [
    {
     "name": "stdout",
     "output_type": "stream",
     "text": [
      "{'Iron', 'Carbon', 'Oxygen'}\n"
     ]
    }
   ],
   "source": [
    "filter_using_set(Element_list_1, Element_list_2)"
   ],
   "metadata": {
    "collapsed": false
   }
  },
  {
   "cell_type": "code",
   "execution_count": 31,
   "metadata": {},
   "outputs": [],
   "source": [
    "# Use lambda & filter()\n",
    "def filter_using_filter(lst_1, lst_2):\n",
    "    final_element_lst = filter(lambda element: element not in lst_2, lst_1)\n",
    "    print(list(final_element_lst))"
   ]
  },
  {
   "cell_type": "code",
   "execution_count": 32,
   "outputs": [
    {
     "name": "stdout",
     "output_type": "stream",
     "text": [
      "['Oxygen', 'Carbon', 'Iron']\n"
     ]
    }
   ],
   "source": [
    "filter_using_filter(Element_list_1, Element_list_2)"
   ],
   "metadata": {
    "collapsed": false
   }
  },
  {
   "cell_type": "markdown",
   "metadata": {},
   "source": [
    "**2.** *Write a Python program that accepts six numbers as input and sorts them in descending order.*\n",
    "\n",
    "Example:\n",
    "\n",
    "Input six integers:\n",
    "15 30 25 14 35 40\n",
    "\n",
    "After sorting the said integers:\n",
    "40 35 30 25 15 14"
   ]
  },
  {
   "cell_type": "code",
   "execution_count": 56,
   "metadata": {},
   "outputs": [
    {
     "name": "stdout",
     "output_type": "stream",
     "text": [
      "[40, 35, 30, 25, 15, 14]\n"
     ]
    }
   ],
   "source": [
    "# gets index of first item in a list which is < the input number\n",
    "def get_index_of_lesser(number, lst):\n",
    "    if lst == []:\n",
    "        return 0\n",
    "    else:\n",
    "        for i in range(len(lst)):\n",
    "            if lst[i] < number:\n",
    "                return i\n",
    "        return len(lst)\n",
    "\n",
    "# removes item from original list at specific index\n",
    "def insert(num, index, lst):\n",
    "    if index > len(lst):\n",
    "        lst += [num]\n",
    "    else:\n",
    "        return lst[:index] + [num] +lst[index:]\n",
    "\n",
    "\n",
    "def sort_list_descending(unsorted_lst, sorted_lst=[]):\n",
    "    if unsorted_lst == []:\n",
    "        return sorted_lst\n",
    "    elif sorted_lst == []:\n",
    "        return sort_list_descending(unsorted_lst[1:], [unsorted_lst[0]] + sorted_lst)\n",
    "    else:\n",
    "        index = get_index_of_lesser(unsorted_lst[0], sorted_lst)\n",
    "        return sort_list_descending(unsorted_lst[1:], insert(unsorted_lst[0], index, sorted_lst))\n",
    "\n",
    "test_lst = [15,30,25,14,35,40]\n",
    "\n",
    "print(sort_list_descending(test_lst))"
   ]
  },
  {
   "cell_type": "markdown",
   "metadata": {},
   "source": [
    "**3.** *Write a Python program to count the number of strings where the string length is 2 or more and the first and last character are same from a given list of strings.*\n",
    "\n",
    "\n",
    "Sample List : ['abc', 'xyz', 'aba', '1221','AbGADA']\n",
    "\n",
    "Expected Result : 3"
   ]
  },
  {
   "cell_type": "code",
   "execution_count": null,
   "metadata": {},
   "outputs": [],
   "source": []
  },
  {
   "cell_type": "markdown",
   "metadata": {},
   "source": [
    "**4.** *Write a Python program to sort a given matrix in ascending order according to the sum of its rows.*\n",
    "\n",
    "Example: (use one of them to try the program on)<br>\n",
    "Original Matrix:<br>\n",
    "[[1, 9, 0],<br>\n",
    "[2, 8, 1],<br>\n",
    "[1, 1, 1]]<br>\n",
    "\n",
    "Sort the said matrix in ascending order according to the sum of its rows\n",
    "\n",
    "[[1, 1, 1],<br>\n",
    "[1, 9, 0],<br>\n",
    "[2, 8, 1]]<br>\n",
    "\n",
    "Original Matrix:<br>\n",
    "[[1, 9, 0],<br>\n",
    "[1, -1, 1],<br>\n",
    "[-2, 4, -5]]<br>\n",
    "\n",
    "Sort the said matrix in ascending order according to the sum of its rows\n",
    "\n",
    "[[-2, 4, -5],<br>\n",
    "[1, -1, 1],<br>\n",
    "[1, 9, 0]]<br>"
   ]
  },
  {
   "cell_type": "code",
   "execution_count": null,
   "metadata": {},
   "outputs": [],
   "source": []
  },
  {
   "cell_type": "markdown",
   "metadata": {},
   "source": [
    "**5.** *Write a Python program to combine two dictionary adding values for common keys.*\n",
    "d1 = {'a': 100, 'b': 200, 'c':300}\n",
    "d2 = {'a': 300, 'b': 200, 'd':400}\n",
    "Sample output: Counter({'a': 400, 'b': 400, 'd': 400, 'c': 300})\n",
    "\n",
    "Hint: from collections import Counter"
   ]
  },
  {
   "cell_type": "code",
   "execution_count": null,
   "metadata": {},
   "outputs": [],
   "source": []
  },
  {
   "cell_type": "markdown",
   "metadata": {},
   "source": [
    "**6.** Write a Python program that recieve dictionary of elements to their molar weight, and then print the names of the elements with the highest and lowest molar weight.\n",
    "\n",
    "Sample Output:\n",
    "Original dictionary elements:\n",
    "\n",
    "Chemical_elements = {'Scandium': 21, 'Cobalt': 27, 'Sulfur': 16,'Silver': 47 }\n",
    "\n",
    "Finds the key of the maximum and minimum value of the said dictionary:\n",
    "\n",
    "Highest Mw: Silver\n",
    "\n",
    "Lowest Mw: Sulfur\n",
    "\n"
   ]
  },
  {
   "cell_type": "code",
   "execution_count": null,
   "metadata": {},
   "outputs": [],
   "source": [
    "Chemical_elements = {'Scandium': 21, 'Cobalt': 27, 'Sulfur': 16,'Silver': 47 }\n",
    "\n",
    "\n"
   ]
  },
  {
   "cell_type": "markdown",
   "metadata": {},
   "source": [
    "**7.** *Write a function that recieve two given tuples and return their subtraction using map and lambda.*\n",
    "\n",
    "Original tuples:\n",
    "(8,10,3)\n",
    "(-1,7,9)\n",
    "\n",
    "Result: after substracting two tuples\n",
    "(9, 3, -6)"
   ]
  },
  {
   "cell_type": "code",
   "execution_count": null,
   "metadata": {},
   "outputs": [],
   "source": []
  },
  {
   "cell_type": "markdown",
   "metadata": {},
   "source": [
    "**8.** *Write a Python program to compute the product of all the elements of each tuple stored inside a list of tuples.*\n",
    "\n",
    "Original list of tuples:\n",
    "[(1, 2), (2, 3), (3, 4)]\n",
    "\n",
    "Product of all the elements of each tuple stored inside the said list of tuples:\n",
    "[2, 6, 12]\n",
    "\n",
    "Original list of tuples:\n",
    "[(1, 2, 6), (2, 3, -6), (3, 4), (2, 2, 2, 2)]\n",
    "\n",
    "Product of all the elements of each tuple stored inside the said list of tuples:\n",
    "[12, -36, 12, 16]"
   ]
  },
  {
   "cell_type": "code",
   "execution_count": null,
   "metadata": {},
   "outputs": [],
   "source": []
  }
 ],
 "metadata": {
  "kernelspec": {
   "display_name": "Python 3 (ipykernel)",
   "language": "python",
   "name": "python3"
  },
  "language_info": {
   "codemirror_mode": {
    "name": "ipython",
    "version": 3
   },
   "file_extension": ".py",
   "mimetype": "text/x-python",
   "name": "python",
   "nbconvert_exporter": "python",
   "pygments_lexer": "ipython3",
   "version": "3.9.7"
  }
 },
 "nbformat": 4,
 "nbformat_minor": 4
}
