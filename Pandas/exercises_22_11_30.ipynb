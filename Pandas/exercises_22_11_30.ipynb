{
 "cells": [
  {
   "cell_type": "code",
   "execution_count": 2,
   "outputs": [],
   "source": [
    "import pandas as pd"
   ],
   "metadata": {
    "collapsed": false
   }
  },
  {
   "cell_type": "code",
   "execution_count": 5,
   "metadata": {
    "collapsed": true
   },
   "outputs": [],
   "source": [
    "band_gap_data = pd.read_csv(\"expt_gap.csv\", index_col=0)"
   ]
  },
  {
   "cell_type": "code",
   "execution_count": 6,
   "outputs": [
    {
     "data": {
      "text/plain": "           formula  gap expt\n0     Hg0.7Cd0.3Te      0.35\n1             CuBr      3.08\n2              LuP      1.30\n3         Cu3SbSe4      0.40\n4              ZnO      3.44\n...            ...       ...\n6349       Tm2MgTl      0.00\n6350        Nb5Ga4      0.00\n6351        Tb2Sb5      0.00\n6352       Lu2AlTc      0.00\n6353        CeZnPO      0.00\n\n[6354 rows x 2 columns]",
      "text/html": "<div>\n<style scoped>\n    .dataframe tbody tr th:only-of-type {\n        vertical-align: middle;\n    }\n\n    .dataframe tbody tr th {\n        vertical-align: top;\n    }\n\n    .dataframe thead th {\n        text-align: right;\n    }\n</style>\n<table border=\"1\" class=\"dataframe\">\n  <thead>\n    <tr style=\"text-align: right;\">\n      <th></th>\n      <th>formula</th>\n      <th>gap expt</th>\n    </tr>\n  </thead>\n  <tbody>\n    <tr>\n      <th>0</th>\n      <td>Hg0.7Cd0.3Te</td>\n      <td>0.35</td>\n    </tr>\n    <tr>\n      <th>1</th>\n      <td>CuBr</td>\n      <td>3.08</td>\n    </tr>\n    <tr>\n      <th>2</th>\n      <td>LuP</td>\n      <td>1.30</td>\n    </tr>\n    <tr>\n      <th>3</th>\n      <td>Cu3SbSe4</td>\n      <td>0.40</td>\n    </tr>\n    <tr>\n      <th>4</th>\n      <td>ZnO</td>\n      <td>3.44</td>\n    </tr>\n    <tr>\n      <th>...</th>\n      <td>...</td>\n      <td>...</td>\n    </tr>\n    <tr>\n      <th>6349</th>\n      <td>Tm2MgTl</td>\n      <td>0.00</td>\n    </tr>\n    <tr>\n      <th>6350</th>\n      <td>Nb5Ga4</td>\n      <td>0.00</td>\n    </tr>\n    <tr>\n      <th>6351</th>\n      <td>Tb2Sb5</td>\n      <td>0.00</td>\n    </tr>\n    <tr>\n      <th>6352</th>\n      <td>Lu2AlTc</td>\n      <td>0.00</td>\n    </tr>\n    <tr>\n      <th>6353</th>\n      <td>CeZnPO</td>\n      <td>0.00</td>\n    </tr>\n  </tbody>\n</table>\n<p>6354 rows × 2 columns</p>\n</div>"
     },
     "execution_count": 6,
     "metadata": {},
     "output_type": "execute_result"
    }
   ],
   "source": [
    "band_gap_data"
   ],
   "metadata": {
    "collapsed": false
   }
  },
  {
   "cell_type": "code",
   "execution_count": null,
   "outputs": [],
   "source": [],
   "metadata": {
    "collapsed": false
   }
  }
 ],
 "metadata": {
  "kernelspec": {
   "display_name": "Python 3",
   "language": "python",
   "name": "python3"
  },
  "language_info": {
   "codemirror_mode": {
    "name": "ipython",
    "version": 2
   },
   "file_extension": ".py",
   "mimetype": "text/x-python",
   "name": "python",
   "nbconvert_exporter": "python",
   "pygments_lexer": "ipython2",
   "version": "2.7.6"
  }
 },
 "nbformat": 4,
 "nbformat_minor": 0
}
